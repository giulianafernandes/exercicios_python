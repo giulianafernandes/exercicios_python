{
  "nbformat": 4,
  "nbformat_minor": 0,
  "metadata": {
    "colab": {
      "provenance": [],
      "authorship_tag": "ABX9TyON0WqnZyc+Xc30ei0zWceP"
    },
    "kernelspec": {
      "name": "python3",
      "display_name": "Python 3"
    },
    "language_info": {
      "name": "python"
    }
  },
  "cells": [
    {
      "cell_type": "code",
      "source": [
        "# exercício 042 - Analisando Triângulos\n",
        "seg1 = float(input('Primeiro segmento: '))\n",
        "seg2 = float(input('Segundo segmento: '))\n",
        "seg3 = float(input('Terceiro segmento: '))\n",
        "\n",
        "if seg1 < seg2 + seg3 and seg2 < seg1 + seg3 and seg3 <seg1 + seg2:\n",
        "  print('Os segmentos acima PODEM formar um triângulo.')\n",
        "\n",
        "  if seg1 == seg2 == seg3:\n",
        "    print('O triângulo é equilátero.')\n",
        "  elif seg1 != seg2 != seg3 != seg1:\n",
        "    print('O triêngulo é escaleno.')\n",
        "  else:\n",
        "    print('O triângulo é isósceles.')\n",
        "\n",
        "else:\n",
        "  print('Os segmentos acima NÃO PODEM formar triângulo')\n"
      ],
      "metadata": {
        "id": "wUdTFWEO5L2H",
        "colab": {
          "base_uri": "https://localhost:8080/"
        },
        "outputId": "b343ccdc-c646-4bac-d34d-ecee490ad3a2"
      },
      "execution_count": null,
      "outputs": [
        {
          "output_type": "stream",
          "name": "stdout",
          "text": [
            "Primeiro segmento: 6\n",
            "Segundo segmento: 6\n",
            "Terceiro segmento: 6\n",
            "Os segmentos acima PODEM formar um triângulo.\n",
            "O triângulo é equilátero.\n"
          ]
        }
      ]
    }
  ]
}