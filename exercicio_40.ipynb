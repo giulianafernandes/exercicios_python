{
  "nbformat": 4,
  "nbformat_minor": 0,
  "metadata": {
    "colab": {
      "provenance": [],
      "authorship_tag": "ABX9TyMs8EZjEVIUsm8zjgD9l+m/",
      "include_colab_link": true
    },
    "kernelspec": {
      "name": "python3",
      "display_name": "Python 3"
    },
    "language_info": {
      "name": "python"
    }
  },
  "cells": [
    {
      "cell_type": "markdown",
      "metadata": {
        "id": "view-in-github",
        "colab_type": "text"
      },
      "source": [
        "<a href=\"https://colab.research.google.com/github/giulianafernandes/exercicios_python/blob/main/exercicio_40.ipynb\" target=\"_parent\"><img src=\"https://colab.research.google.com/assets/colab-badge.svg\" alt=\"Open In Colab\"/></a>"
      ]
    },
    {
      "cell_type": "code",
      "execution_count": null,
      "metadata": {
        "id": "T3OhpHUL0j0h"
      },
      "outputs": [],
      "source": [
        "# exercício 040 - Médias\n",
        "\n",
        "nota1 = float(input('Primeira nota: '))\n",
        "nota2 = float(input('Segunda nota: '))\n",
        "\n",
        "media = (nota1 + nota2) / 2\n",
        "\n",
        "if media < 5.0:\n",
        "  print(f'Sua média foi de {media}\\nREPROVADO')\n",
        "\n",
        "elif media >= 7.0:\n",
        "  print(f'Sua média foi de {media}\\nAPROVADO!')\n",
        "\n",
        "elif media >= 5.0 and media <= 7.0:\n",
        "  print(f'Sua média foi de {media}\\nRECUPERAÇÃ0.')"
      ]
    }
  ]
}