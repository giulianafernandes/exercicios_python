{
  "nbformat": 4,
  "nbformat_minor": 0,
  "metadata": {
    "colab": {
      "provenance": [],
      "authorship_tag": "ABX9TyNr2Gj36pvXs5cL/f644YKE"
    },
    "kernelspec": {
      "name": "python3",
      "display_name": "Python 3"
    },
    "language_info": {
      "name": "python"
    }
  },
  "cells": [
    {
      "cell_type": "code",
      "execution_count": null,
      "metadata": {
        "id": "QW03Mqy_2x9v"
      },
      "outputs": [],
      "source": [
        "# exercício 041 - Classificando Atletas\n",
        "from datetime import date\n",
        "\n",
        "ano = int(input('Digite aqui o seu ano de nascimento: '))\n",
        "idade = date.today().year - ano\n",
        "\n",
        "print(f'O aluno tem {idade} anos')\n",
        "\n",
        "if idade <= 9:\n",
        "  print('A categoria dele é MIRIM.')\n",
        "elif idade <= 14:\n",
        "  print('A categoria dele é INFANTIL')\n",
        "elif idade <= 19:\n",
        "  print('A categoria dele é JÚNIOR')\n",
        "elif idade <= 25:\n",
        "  print('A categoria dele é SÊNIOR')\n",
        "else:\n",
        "  print('A categoria dele é MASTER')"
      ]
    }
  ]
}